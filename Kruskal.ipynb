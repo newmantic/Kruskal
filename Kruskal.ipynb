{
  "nbformat": 4,
  "nbformat_minor": 0,
  "metadata": {
    "colab": {
      "provenance": [],
      "authorship_tag": "ABX9TyOJ0XRK4FSWW5GyyCkR899O",
      "include_colab_link": true
    },
    "kernelspec": {
      "name": "python3",
      "display_name": "Python 3"
    },
    "language_info": {
      "name": "python"
    }
  },
  "cells": [
    {
      "cell_type": "markdown",
      "metadata": {
        "id": "view-in-github",
        "colab_type": "text"
      },
      "source": [
        "<a href=\"https://colab.research.google.com/github/newmantic/Kruskal/blob/main/Kruskal.ipynb\" target=\"_parent\"><img src=\"https://colab.research.google.com/assets/colab-badge.svg\" alt=\"Open In Colab\"/></a>"
      ]
    },
    {
      "cell_type": "code",
      "execution_count": 1,
      "metadata": {
        "id": "76xBQiJk7WYN"
      },
      "outputs": [],
      "source": [
        "class DisjointSet:\n",
        "    def __init__(self, n):\n",
        "        self.parent = list(range(n))\n",
        "        self.rank = [0] * n\n",
        "\n",
        "    def find(self, u):\n",
        "        if self.parent[u] != u:\n",
        "            self.parent[u] = self.find(self.parent[u])  # Path compression\n",
        "        return self.parent[u]\n",
        "\n",
        "    def union(self, u, v):\n",
        "        root_u = self.find(u)\n",
        "        root_v = self.find(v)\n",
        "\n",
        "        if root_u != root_v:\n",
        "            # Union by rank\n",
        "            if self.rank[root_u] > self.rank[root_v]:\n",
        "                self.parent[root_v] = root_u\n",
        "            elif self.rank[root_u] < self.rank[root_v]:\n",
        "                self.parent[root_u] = root_v\n",
        "            else:\n",
        "                self.parent[root_v] = root_u\n",
        "                self.rank[root_u] += 1\n",
        "\n",
        "\n",
        "def kruskal(num_vertices, edges):\n",
        "    # Sort edges based on weight\n",
        "    edges.sort(key=lambda x: x[2])\n",
        "\n",
        "    disjoint_set = DisjointSet(num_vertices)\n",
        "    mst = []\n",
        "    total_weight = 0\n",
        "\n",
        "    for u, v, weight in edges:\n",
        "        if disjoint_set.find(u) != disjoint_set.find(v):\n",
        "            disjoint_set.union(u, v)\n",
        "            mst.append((u, v, weight))\n",
        "            total_weight += weight\n",
        "\n",
        "    return mst, total_weight\n",
        "\n"
      ]
    },
    {
      "cell_type": "code",
      "source": [
        "# Example test cases\n",
        "def test_kruskal():\n",
        "    # Example graph (0-indexed vertices)\n",
        "    edges = [\n",
        "        (0, 1, 10),  # edge (0, 1) with weight 10\n",
        "        (0, 2, 6),   # edge (0, 2) with weight 6\n",
        "        (0, 3, 5),   # edge (0, 3) with weight 5\n",
        "        (1, 3, 15),  # edge (1, 3) with weight 15\n",
        "        (2, 3, 4)    # edge (2, 3) with weight 4\n",
        "    ]\n",
        "\n",
        "    num_vertices = 4  # Number of vertices in the graph\n",
        "\n",
        "    mst, total_weight = kruskal(num_vertices, edges)\n",
        "\n",
        "    print(\"Edges in the Minimum Spanning Tree:\")\n",
        "    for u, v, weight in mst:\n",
        "        print(f\"({u}, {v}) with weight {weight}\")\n",
        "\n",
        "    print(f\"Total weight of MST: {total_weight}\")\n",
        "\n",
        "\n",
        "# Run the test\n",
        "test_kruskal()"
      ],
      "metadata": {
        "colab": {
          "base_uri": "https://localhost:8080/"
        },
        "id": "5R43Dqri7geA",
        "outputId": "a5b9ce44-d944-4149-e44b-c96d4643daa5"
      },
      "execution_count": 2,
      "outputs": [
        {
          "output_type": "stream",
          "name": "stdout",
          "text": [
            "Edges in the Minimum Spanning Tree:\n",
            "(2, 3) with weight 4\n",
            "(0, 3) with weight 5\n",
            "(0, 1) with weight 10\n",
            "Total weight of MST: 19\n"
          ]
        }
      ]
    },
    {
      "cell_type": "code",
      "source": [
        "def additional_tests():\n",
        "    # Test Case 1: Simple Graph\n",
        "    edges_1 = [\n",
        "        (0, 1, 4),\n",
        "        (0, 2, 3),\n",
        "        (1, 2, 1),\n",
        "        (1, 3, 2),\n",
        "        (2, 3, 5)\n",
        "    ]\n",
        "    print(\"Test Case 1:\")\n",
        "    mst_1, weight_1 = kruskal(4, edges_1)\n",
        "    print(mst_1, weight_1)\n",
        "\n",
        "    # Test Case 2: Complete Graph\n",
        "    edges_2 = [\n",
        "        (0, 1, 10),\n",
        "        (0, 2, 6),\n",
        "        (0, 3, 5),\n",
        "        (1, 2, 15),\n",
        "        (1, 3, 4),\n",
        "        (2, 3, 8)\n",
        "    ]\n",
        "    print(\"Test Case 2:\")\n",
        "    mst_2, weight_2 = kruskal(4, edges_2)\n",
        "    print(mst_2, weight_2)\n",
        "\n",
        "    # Test Case 3: Larger Graph\n",
        "    edges_3 = [\n",
        "        (0, 1, 7),\n",
        "        (0, 2, 9),\n",
        "        (0, 5, 14),\n",
        "        (1, 2, 10),\n",
        "        (1, 3, 15),\n",
        "        (2, 3, 11),\n",
        "        (2, 5, 2),\n",
        "        (3, 4, 6),\n",
        "        (4, 5, 9)\n",
        "    ]\n",
        "    print(\"Test Case 3:\")\n",
        "    mst_3, weight_3 = kruskal(6, edges_3)\n",
        "    print(mst_3, weight_3)\n",
        "\n",
        "\n",
        "# Run the additional tests\n",
        "additional_tests()"
      ],
      "metadata": {
        "colab": {
          "base_uri": "https://localhost:8080/"
        },
        "id": "9iZl0k_n7n7G",
        "outputId": "1431f2d4-d10c-42fa-ffb1-787bc6eb3af5"
      },
      "execution_count": 3,
      "outputs": [
        {
          "output_type": "stream",
          "name": "stdout",
          "text": [
            "Test Case 1:\n",
            "[(1, 2, 1), (1, 3, 2), (0, 2, 3)] 6\n",
            "Test Case 2:\n",
            "[(1, 3, 4), (0, 3, 5), (0, 2, 6)] 15\n",
            "Test Case 3:\n",
            "[(2, 5, 2), (3, 4, 6), (0, 1, 7), (0, 2, 9), (4, 5, 9)] 33\n"
          ]
        }
      ]
    }
  ]
}